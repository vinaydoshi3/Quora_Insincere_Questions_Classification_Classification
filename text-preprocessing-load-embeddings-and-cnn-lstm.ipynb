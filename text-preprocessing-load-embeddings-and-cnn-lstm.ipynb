{
 "cells": [
  {
   "cell_type": "code",
   "execution_count": 1,
   "metadata": {},
   "outputs": [],
   "source": [
    "#A lot of the preprocessing is based on Dieter's and Theio Vial's work.\n",
    "#https://www.kaggle.com/christofhenkel/how-to-preprocessing-when-using-embeddings\n",
    "#https://www.kaggle.com/theoviel/improve-your-score-with-some-text-preprocessing"
   ]
  },
  {
   "cell_type": "code",
   "execution_count": 2,
   "metadata": {
    "_cell_guid": "b1076dfc-b9ad-4769-8c92-a6c4dae69d19",
    "_uuid": "8f2839f25d086af736a60e9eeb907d3b93b6e0e5"
   },
   "outputs": [
    {
     "name": "stdout",
     "output_type": "stream",
     "text": [
      "/kaggle/input/quora-insincere-questions-classification/train.csv\n",
      "/kaggle/input/quora-insincere-questions-classification/sample_submission.csv\n",
      "/kaggle/input/quora-insincere-questions-classification/test.csv\n",
      "/kaggle/input/quora-insincere-questions-classification/embeddings/paragram_300_sl999/paragram_300_sl999.txt\n",
      "/kaggle/input/quora-insincere-questions-classification/embeddings/paragram_300_sl999/README.txt\n",
      "/kaggle/input/quora-insincere-questions-classification/embeddings/wiki-news-300d-1M/wiki-news-300d-1M.vec\n",
      "/kaggle/input/quora-insincere-questions-classification/embeddings/GoogleNews-vectors-negative300/GoogleNews-vectors-negative300.bin\n",
      "/kaggle/input/quora-insincere-questions-classification/embeddings/glove.840B.300d/glove.840B.300d.txt\n"
     ]
    }
   ],
   "source": [
    "# This Python 3 environment comes with many helpful analytics libraries installed\n",
    "# It is defined by the kaggle/python docker image: https://github.com/kaggle/docker-python\n",
    "# For example, here's several helpful packages to load in \n",
    "\n",
    "import numpy as np # linear algebra\n",
    "import pandas as pd # data processing, CSV file I/O (e.g. pd.read_csv)\n",
    "import matplotlib.pyplot as plt\n",
    "import seaborn as sns\n",
    "#from wordcloud import WordCloud, STOPWORDS\n",
    "import pyprind \n",
    "import warnings\n",
    "warnings.filterwarnings('ignore')\n",
    "import gc\n",
    "import gensim\n",
    "from gensim.models import KeyedVectors\n",
    "import operator\n",
    "import string\n",
    "# Input data files are available in the \"../input/\" directory.\n",
    "# For example, running this (by clicking run or pressing Shift+Enter) will list all files under the input directory\n",
    "\n",
    "import os\n",
    "for dirname, _, filenames in os.walk('/kaggle/input'):\n",
    "    for filename in filenames:\n",
    "        print(os.path.join(dirname, filename))\n",
    "\n",
    "# Any results you write to the current directory are saved as output."
   ]
  },
  {
   "cell_type": "code",
   "execution_count": 3,
   "metadata": {},
   "outputs": [
    {
     "name": "stdout",
     "output_type": "stream",
     "text": [
      "Train Shape: (1306122, 3)\n",
      "Test Shape: (375806, 2)\n",
      "Df Shape:(1681928, 3)\n"
     ]
    }
   ],
   "source": [
    "train = pd.read_csv('../input/quora-insincere-questions-classification/train.csv', encoding='utf-8')#.drop('target',axis=1)\n",
    "test = pd.read_csv('../input/quora-insincere-questions-classification/test.csv', encoding='utf-8')\n",
    "df = pd.concat([train,test],axis=0)\n",
    "print(f'''Train Shape: {train.shape}\n",
    "Test Shape: {test.shape}\n",
    "Df Shape:{df.shape}''')"
   ]
  },
  {
   "cell_type": "code",
   "execution_count": 4,
   "metadata": {},
   "outputs": [
    {
     "name": "stdout",
     "output_type": "stream",
     "text": [
      "Train Shape:(1306122, 3)\n"
     ]
    }
   ],
   "source": [
    "train = train.sample(frac=1)\n",
    "print(f'Train Shape:{train.shape}')"
   ]
  },
  {
   "cell_type": "code",
   "execution_count": 5,
   "metadata": {},
   "outputs": [],
   "source": [
    "def build_vocab(sentences, verbose=True):\n",
    "    sentences = sentences.apply(lambda x: x.split()).values\n",
    "    vocab={}    \n",
    "    for sentence in pyprind.prog_bar(sentences):\n",
    "        for word in sentence:\n",
    "            try:\n",
    "                vocab[word]+=1\n",
    "            except KeyError:\n",
    "                vocab[word]=1\n",
    "    return vocab          "
   ]
  },
  {
   "cell_type": "code",
   "execution_count": 6,
   "metadata": {},
   "outputs": [],
   "source": [
    "def load_embed(file):\n",
    "    def get_coefs(word,*arr): \n",
    "        #print(word,arr)\n",
    "        return word, np.asarray(arr, dtype='float16')\n",
    "    \n",
    "    if file == '../input/quora-insincere-questions-classification/embeddings/wiki-news-300d-1M/wiki-news-300d-1M.vec':\n",
    "        embeddings_index = dict(get_coefs(*o.split(\" \")) for o in open(file, encoding='utf8') if len(o)>100)\n",
    "    elif file == '../input/quora-insincere-questions-classification/embeddings/GoogleNews-vectors-negative300/GoogleNews-vectors-negative300.bin':\n",
    "        embeddings_index = KeyedVectors.load_word2vec_format(file, binary=True)\n",
    "    elif file == '../input/quora-insincere-questions-classification/embeddings/paragram_300_sl999/paragram_300_sl999.txt':\n",
    "        embeddings_index = dict(get_coefs(*o.split(\" \")) for o in open(file, encoding='latin') if len(o)>100)\n",
    "    else:\n",
    "        embeddings_index = dict(get_coefs(*o.split(\" \")) for o in open(file, encoding='latin'))\n",
    "        \n",
    "    return embeddings_index\n",
    "glove = '../input/quora-insincere-questions-classification/embeddings/glove.840B.300d/glove.840B.300d.txt'\n",
    "paragram =  '../input/quora-insincere-questions-classification/embeddings/paragram_300_sl999/paragram_300_sl999.txt'\n",
    "#wiki_news = '../input/quora-insincere-questions-classification/embeddings/wiki-news-300d-1M/wiki-news-300d-1M.vec'"
   ]
  },
  {
   "cell_type": "code",
   "execution_count": 7,
   "metadata": {},
   "outputs": [
    {
     "name": "stdout",
     "output_type": "stream",
     "text": [
      "Extracting Paragram embedding\n"
     ]
    }
   ],
   "source": [
    "#print(\"Extracting GloVe embedding\")\n",
    "#embed_glove = load_embed(glove)\n",
    "print(\"Extracting Paragram embedding\")\n",
    "embed_paragram = load_embed(paragram)\n",
    "#print(\"Extracting FastText embedding\")\n",
    "#embed_fasttext = load_embed(wiki_news)"
   ]
  },
  {
   "cell_type": "code",
   "execution_count": 8,
   "metadata": {},
   "outputs": [],
   "source": [
    "def check_coverage(vocab,embeddings_index):\n",
    "    known_words={}\n",
    "    unknown_words={}\n",
    "    nb_known_words=0\n",
    "    nb_unknown_words=0\n",
    "    for word in vocab.keys():\n",
    "        if word in embeddings_index.keys():\n",
    "            known_words[word]=embeddings_index[word]\n",
    "            nb_known_words += vocab[word]\n",
    "        elif word.capitalize() in embeddings_index.keys():\n",
    "            known_words[word] = embeddings_index[word.capitalize()]\n",
    "            nb_known_words += vocab[word]\n",
    "        elif word.lower() in embeddings_index.keys():\n",
    "            known_words[word] = embeddings_index[word.lower()]\n",
    "            nb_known_words += vocab[word]\n",
    "        elif word.upper() in embeddings_index.keys():\n",
    "            known_words[word] = embeddings_index[word.upper()]\n",
    "            nb_known_words += vocab[word]\n",
    "        else:\n",
    "            unknown_words[word] = vocab[word]\n",
    "            nb_unknown_words += vocab[word]\n",
    "    print(f'Found embeddings for {round((len(known_words)/len(vocab))*100,5)}% of the vocab\\nFound embeddings for {round((nb_known_words/(nb_known_words+nb_unknown_words))*100,5)}% of all text')\n",
    "    unknown_words = sorted(unknown_words.items(), key=operator.itemgetter(1),reverse=True)#[::-1]\n",
    "    return unknown_words"
   ]
  },
  {
   "cell_type": "code",
   "execution_count": 9,
   "metadata": {},
   "outputs": [],
   "source": [
    "# vocab = build_vocab(df['question_text'])"
   ]
  },
  {
   "cell_type": "code",
   "execution_count": 10,
   "metadata": {},
   "outputs": [],
   "source": [
    "# print(\"Glove : \")\n",
    "# oov_glove = check_coverage(vocab, embed_glove)\n",
    "# print(\"Paragram : \")\n",
    "# oov_paragram = check_coverage(vocab, embed_paragram)\n",
    "# #print(\"FastText : \")\n",
    "# #oov_fasttext = check_coverage(vocab, embed_fasttext)"
   ]
  },
  {
   "cell_type": "code",
   "execution_count": 11,
   "metadata": {},
   "outputs": [],
   "source": [
    "contraction_mapping = {\n",
    "    \"Trump's\" : 'trump is',\"'cause\": 'because','â€™': \"'\",',cause': 'because',';cause': 'because',\"ain't\": 'am not','ain,t': 'am not',\n",
    "    'ain;t': 'am not','ain´t': 'am not','ain’t': 'am not',\"aren't\": 'are not','â€“': '-','â€œ':'\"',\n",
    "    'aren,t': 'are not','aren;t': 'are not','aren´t': 'are not','aren’t': 'are not',\"can't\": 'cannot',\"can't've\": 'cannot have','can,t': 'cannot','can,t,ve': 'cannot have',\n",
    "    'can;t': 'cannot','can;t;ve': 'cannot have',\n",
    "    'can´t': 'cannot','can´t´ve': 'cannot have','can’t': 'cannot','can’t’ve': 'cannot have',\n",
    "    \"could've\": 'could have','could,ve': 'could have','could;ve': 'could have',\"couldn't\": 'could not',\"couldn't've\": 'could not have','couldn,t': 'could not','couldn,t,ve': 'could not have','couldn;t': 'could not',\n",
    "    'couldn;t;ve': 'could not have','couldn´t': 'could not',\n",
    "    'couldn´t´ve': 'could not have','couldn’t': 'could not','couldn’t’ve': 'could not have','could´ve': 'could have',\n",
    "    'could’ve': 'could have',\"didn't\": 'did not','didn,t': 'did not','didn;t': 'did not','didn´t': 'did not',\n",
    "    'didn’t': 'did not',\"doesn't\": 'does not','doesn,t': 'does not','doesn;t': 'does not','doesn´t': 'does not',\n",
    "    'doesn’t': 'does not',\"don't\": 'do not','don,t': 'do not','don;t': 'do not','don´t': 'do not','don’t': 'do not',\n",
    "    \"hadn't\": 'had not',\"hadn't've\": 'had not have','hadn,t': 'had not','hadn,t,ve': 'had not have','hadn;t': 'had not',\n",
    "    'hadn;t;ve': 'had not have','hadn´t': 'had not','hadn´t´ve': 'had not have','hadn’t': 'had not','hadn’t’ve': 'had not have',\"hasn't\": 'has not','hasn,t': 'has not','hasn;t': 'has not','hasn´t': 'has not','hasn’t': 'has not',\n",
    "    \"haven't\": 'have not','haven,t': 'have not','haven;t': 'have not','haven´t': 'have not','haven’t': 'have not',\"he'd\": 'he would',\n",
    "    \"he'd've\": 'he would have',\"he'll\": 'he will',\n",
    "    \"he's\": 'he is','he,d': 'he would','he,d,ve': 'he would have','he,ll': 'he will','he,s': 'he is','he;d': 'he would',\n",
    "    'he;d;ve': 'he would have','he;ll': 'he will','he;s': 'he is','he´d': 'he would','he´d´ve': 'he would have','he´ll': 'he will',\n",
    "    'he´s': 'he is','he’d': 'he would','he’d’ve': 'he would have','he’ll': 'he will','he’s': 'he is',\"how'd\": 'how did',\"how'll\": 'how will',\n",
    "    \"how's\": 'how is','how,d': 'how did','how,ll': 'how will','how,s': 'how is','how;d': 'how did','how;ll': 'how will',\n",
    "    'how;s': 'how is','how´d': 'how did','how´ll': 'how will','how´s': 'how is','how’d': 'how did','how’ll': 'how will',\n",
    "    'how’s': 'how is',\"i'd\": 'i would',\"i'll\": 'i will',\"i'm\": 'i am',\"i've\": 'i have','i,d': 'i would','i,ll': 'i will',\n",
    "    'i,m': 'i am','i,ve': 'i have','i;d': 'i would','i;ll': 'i will','i;m': 'i am','i;ve': 'i have',\"isn't\": 'is not',\n",
    "    'isn,t': 'is not','isn;t': 'is not','isn´t': 'is not','isn’t': 'is not',\"it'd\": 'it would',\"it'll\": 'it will',\"It's\":'it is',\n",
    "    \"it's\": 'it is','it,d': 'it would','it,ll': 'it will','it,s': 'it is','it;d': 'it would','it;ll': 'it will','it;s': 'it is','it´d': 'it would','it´ll': 'it will','it´s': 'it is',\n",
    "    'it’d': 'it would','it’ll': 'it will','it’s': 'it is',\n",
    "    'i´d': 'i would','i´ll': 'i will','i´m': 'i am','i´ve': 'i have','i’d': 'i would','i’ll': 'i will','i’m': 'i am',\n",
    "    'i’ve': 'i have',\"let's\": 'let us','let,s': 'let us','let;s': 'let us','let´s': 'let us',\n",
    "    'let’s': 'let us',\"ma'am\": 'madam','ma,am': 'madam','ma;am': 'madam',\"mayn't\": 'may not','mayn,t': 'may not','mayn;t': 'may not',\n",
    "    'mayn´t': 'may not','mayn’t': 'may not','ma´am': 'madam','ma’am': 'madam',\"might've\": 'might have','might,ve': 'might have','might;ve': 'might have',\"mightn't\": 'might not','mightn,t': 'might not','mightn;t': 'might not','mightn´t': 'might not',\n",
    "    'mightn’t': 'might not','might´ve': 'might have','might’ve': 'might have',\"must've\": 'must have','must,ve': 'must have','must;ve': 'must have',\n",
    "    \"mustn't\": 'must not','mustn,t': 'must not','mustn;t': 'must not','mustn´t': 'must not','mustn’t': 'must not','must´ve': 'must have',\n",
    "    'must’ve': 'must have',\"needn't\": 'need not','needn,t': 'need not','needn;t': 'need not','needn´t': 'need not','needn’t': 'need not',\"oughtn't\": 'ought not','oughtn,t': 'ought not','oughtn;t': 'ought not',\n",
    "    'oughtn´t': 'ought not','oughtn’t': 'ought not',\"sha'n't\": 'shall not','sha,n,t': 'shall not','sha;n;t': 'shall not',\"shan't\": 'shall not',\n",
    "    'shan,t': 'shall not','shan;t': 'shall not','shan´t': 'shall not','shan’t': 'shall not','sha´n´t': 'shall not','sha’n’t': 'shall not',\n",
    "    \"she'd\": 'she would',\"she'll\": 'she will',\"she's\": 'she is','she,d': 'she would','she,ll': 'she will',\n",
    "    'she,s': 'she is','she;d': 'she would','she;ll': 'she will','she;s': 'she is','she´d': 'she would','she´ll': 'she will',\n",
    "    'she´s': 'she is','she’d': 'she would','she’ll': 'she will','she’s': 'she is',\"should've\": 'should have','should,ve': 'should have','should;ve': 'should have',\n",
    "    \"shouldn't\": 'should not','shouldn,t': 'should not','shouldn;t': 'should not','shouldn´t': 'should not','shouldn’t': 'should not','should´ve': 'should have',\n",
    "    'should’ve': 'should have',\"that'd\": 'that would',\"that's\": 'that is','that,d': 'that would','that,s': 'that is','that;d': 'that would',\n",
    "    'that;s': 'that is','that´d': 'that would','that´s': 'that is','that’d': 'that would','that’s': 'that is',\"there'd\": 'there had',\n",
    "    \"there's\": 'there is','there,d': 'there had','there,s': 'there is','there;d': 'there had','there;s': 'there is',\n",
    "    'there´d': 'there had','there´s': 'there is','there’d': 'there had','there’s': 'there is',\n",
    "    \"they'd\": 'they would',\"they'll\": 'they will',\"they're\": 'they are',\"they've\": 'they have',\n",
    "    'they,d': 'they would','they,ll': 'they will','they,re': 'they are','they,ve': 'they have','they;d': 'they would','they;ll': 'they will','they;re': 'they are',\n",
    "    'they;ve': 'they have','they´d': 'they would','they´ll': 'they will','they´re': 'they are','they´ve': 'they have','they’d': 'they would','they’ll': 'they will',\n",
    "    'they’re': 'they are','they’ve': 'they have',\"wasn't\": 'was not','wasn,t': 'was not','wasn;t': 'was not','wasn´t': 'was not',\n",
    "    'wasn’t': 'was not',\"we'd\": 'we would',\"we'll\": 'we will',\"we're\": 'we are',\"we've\": 'we have','we,d': 'we would','we,ll': 'we will',\n",
    "    'we,re': 'we are','we,ve': 'we have','we;d': 'we would','we;ll': 'we will','we;re': 'we are','we;ve': 'we have',\n",
    "    \"weren't\": 'were not','weren,t': 'were not','weren;t': 'were not','weren´t': 'were not','weren’t': 'were not','we´d': 'we would','we´ll': 'we will',\n",
    "    'we´re': 'we are','we´ve': 'we have','we’d': 'we would','we’ll': 'we will','we’re': 'we are','we’ve': 'we have',\"what'll\": 'what will',\"what're\": 'what are',\"what's\": 'what is',\n",
    "    \"what've\": 'what have','what,ll': 'what will','what,re': 'what are','what,s': 'what is','what,ve': 'what have','what;ll': 'what will','what;re': 'what are',\n",
    "    'what;s': 'what is','what;ve': 'what have','what´ll': 'what will',\n",
    "    'what´re': 'what are','what´s': 'what is','what´ve': 'what have','what’ll': 'what will','what’re': 'what are','what’s': 'what is',\n",
    "    'what’ve': 'what have',\"where'd\": 'where did',\"where's\": 'where is','where,d': 'where did','where,s': 'where is','where;d': 'where did',\n",
    "    'where;s': 'where is','where´d': 'where did','where´s': 'where is','where’d': 'where did','where’s': 'where is',\n",
    "    \"who'll\": 'who will',\"who's\": 'who is','who,ll': 'who will','who,s': 'who is','who;ll': 'who will','who;s': 'who is',\n",
    "    'who´ll': 'who will','who´s': 'who is','who’ll': 'who will','who’s': 'who is',\"won't\": 'will not','won,t': 'will not','won;t': 'will not',\n",
    "    'won´t': 'will not','won’t': 'will not',\"wouldn't\": 'would not','wouldn,t': 'would not','wouldn;t': 'would not','wouldn´t': 'would not',\n",
    "    'wouldn’t': 'would not',\"you'd\": 'you would',\"you'll\": 'you will',\"you're\": 'you are','you,d': 'you would','you,ll': 'you will',\n",
    "    'you,re': 'you are','you;d': 'you would','you;ll': 'you will',\n",
    "    'you;re': 'you are','you´d': 'you would','you´ll': 'you will','you´re': 'you are','you’d': 'you would','you’ll': 'you will','you’re': 'you are',\n",
    "    '´cause': 'because','’cause': 'because',\"you've\": \"you have\",\"could'nt\": 'could not',\n",
    "    \"havn't\": 'have not',\"here’s\": \"here is\",'i\"\"m': 'i am',\"i'am\": 'i am',\"i'l\": \"i will\",\"i'v\": 'i have',\"wan't\": 'want',\"was'nt\": \"was not\",\"who'd\": \"who would\",\n",
    "    \"who're\": \"who are\",\"who've\": \"who have\",\"why'd\": \"why would\",\"would've\": \"would have\",\"y'all\": \"you all\",\"y'know\": \"you know\",\"you.i\": \"you i\",\n",
    "    \"your'e\": \"you are\",\"arn't\": \"are not\",\"agains't\": \"against\",\"c'mon\": \"common\",\"doens't\": \"does not\",'don\"\"t': \"do not\",\"dosen't\": \"does not\",\n",
    "    \"dosn't\": \"does not\",\"shoudn't\": \"should not\",\"that'll\": \"that will\",\"there'll\": \"there will\",\"there're\": \"there are\",\n",
    "    \"this'll\": \"this all\",\"u're\": \"you are\", \"ya'll\": \"you all\",\"you'r\": \"you are\",\"you’ve\": \"you have\",\"d'int\": \"did not\",\"did'nt\": \"did not\",\"din't\": \"did not\",\"dont't\": \"do not\",\"gov't\": \"government\",\n",
    "    \"i'ma\": \"i am\",\"is'nt\": \"is not\",\"‘I\":'I','ᴀɴᴅ':'and','ᴛʜᴇ':'the','ʜᴏᴍᴇ':'home','ᴜᴘ':'up','ʙʏ':'by','ᴀᴛ':'at','…and':'and','civilbeat':'civil beat','TrumpCare':'Trump care','Trumpcare':'Trump care', 'OBAMAcare':'Obama care','ᴄʜᴇᴄᴋ':'check','ғᴏʀ':'for','ᴛʜɪs':'this','ᴄᴏᴍᴘᴜᴛᴇʀ':'computer','ᴍᴏɴᴛʜ':'month','ᴡᴏʀᴋɪɴɢ':'working','ᴊᴏʙ':'job','ғʀᴏᴍ':'from','Sᴛᴀʀᴛ':'start','gubmit':'submit','CO₂':'carbon dioxide','ғɪʀsᴛ':'first','ᴇɴᴅ':'end','ᴄᴀɴ':'can','ʜᴀᴠᴇ':'have','ᴛᴏ':'to','ʟɪɴᴋ':'link','ᴏғ':'of','ʜᴏᴜʀʟʏ':'hourly','ᴡᴇᴇᴋ':'week','ᴇɴᴅ':'end','ᴇxᴛʀᴀ':'extra','Gʀᴇᴀᴛ':'great','sᴛᴜᴅᴇɴᴛs':'student','sᴛᴀʏ':'stay','ᴍᴏᴍs':'mother','ᴏʀ':'or','ᴀɴʏᴏɴᴇ':'anyone','ɴᴇᴇᴅɪɴɢ':'needing','ᴀɴ':'an','ɪɴᴄᴏᴍᴇ':'income',\n",
    "    'ʀᴇʟɪᴀʙʟᴇ':'reliable','ғɪʀsᴛ':'first','ʏᴏᴜʀ':'your','sɪɢɴɪɴɢ':'signing','ʙᴏᴛᴛᴏᴍ':'bottom','ғᴏʟʟᴏᴡɪɴɢ':'following','Mᴀᴋᴇ':'make',\n",
    "    'ᴄᴏɴɴᴇᴄᴛɪᴏɴ':'connection','ɪɴᴛᴇʀɴᴇᴛ':'internet','financialpost':'financial post', 'ʜaᴠᴇ':' have ', 'ᴄaɴ':' can ', 'Maᴋᴇ':' make ', 'ʀᴇʟɪaʙʟᴇ':' reliable ', 'ɴᴇᴇᴅ':' need ',\n",
    "    'ᴏɴʟʏ':' only ', 'ᴇxᴛʀa':' extra ', 'aɴ':' an ', 'aɴʏᴏɴᴇ':' anyone ', 'sᴛaʏ':' stay ', 'Sᴛaʀᴛ':' start', 'SHOPO':'shop',\n",
    "    }"
   ]
  },
  {
   "cell_type": "code",
   "execution_count": 12,
   "metadata": {},
   "outputs": [],
   "source": [
    "bar = pyprind.ProgBar(df.shape[0], bar_char='█')\n",
    "def clean_contractions(text, mapping):\n",
    "    #text_val = text.lower()\n",
    "    #map_val = \n",
    "    for word in mapping.keys():\n",
    "        word_val = word.lower()\n",
    "        if word in text:\n",
    "            text = text.replace(word, mapping[word])\n",
    "        elif word_val in text:\n",
    "            text = text.replace(word_val, mapping[word])\n",
    "#         elif word.lower() in text:\n",
    "#             text = text.replace(word, mapping[word])\n",
    "#         elif word.capitalize() in text:\n",
    "#             text = text.replace(word, mapping[word])\n",
    "#         elif word.upper() in text:\n",
    "#             text = text.replace(word, mapping[word])\n",
    "\n",
    "    bar.update()\n",
    "    return text\n",
    "#df['lowered_question'] = df['question_text'].apply(lambda x: x.lower())\n",
    "#df['treated_question'] = df['lowered_question'].apply(lambda x: clean_contractions(x, contraction_mapping))\n",
    "#train['lowered_question'] = train['question_text'].apply(lambda x: x.lower())\n",
    "#test['lowered_question'] = test['question_text'].apply(lambda x: x.lower())\n",
    "#train['treated_question'] = train['lowered_question'].apply(lambda x: clean_contractions(x, contraction_mapping))\n",
    "#test['treated_question'] = test['lowered_question'].apply(lambda x: clean_contractions(x, contraction_mapping))"
   ]
  },
  {
   "cell_type": "code",
   "execution_count": 13,
   "metadata": {},
   "outputs": [],
   "source": [
    "#df_2 = df.copy()\n",
    "#df = df_2.copy()"
   ]
  },
  {
   "cell_type": "code",
   "execution_count": 14,
   "metadata": {},
   "outputs": [],
   "source": [
    "# vocab = build_vocab(df['treated_question'])\n",
    "# print(\"Glove : \")\n",
    "# oov_glove = check_coverage(vocab, embed_glove)\n",
    "# print(\"Paragram : \")\n",
    "# oov_paragram = check_coverage(vocab, embed_paragram)\n",
    "# #print(\"FastText : \")\n",
    "# #oov_fasttext = check_coverage(vocab, embed_fasttext)"
   ]
  },
  {
   "cell_type": "code",
   "execution_count": 15,
   "metadata": {},
   "outputs": [],
   "source": [
    "# extra_punct = [\n",
    "#     ',', '.', '\"', ':', ')', '(', '!', '?', '|', ';', \"'\", '$', '&',\n",
    "#     '/', '[', ']', '>', '%', '=', '#', '*', '+', '\\\\', '•',  '~', '@', '£',\n",
    "#     '·', '_', '{', '}', '©', '^', '®', '`',  '<', '→', '°', '€', '™', '›',\n",
    "#     '♥', '←', '×', '§', '″', '′', 'Â', '█', '½', 'à', '…', '“', '★', '”',\n",
    "#     '–', '●', 'â', '►', '−', '¢', '²', '¬', '░', '¶', '↑', '±', '¿', '▾',\n",
    "#     '═', '¦', '║', '―', '¥', '▓', '—', '‹', '─', '▒', '：', '¼', '⊕', '▼',\n",
    "#     '▪', '†', '■', '’', '▀', '¨', '▄', '♫', '☆', 'é', '¯', '♦', '¤', '▲',\n",
    "#     'è', '¸', '¾', 'Ã', '⋅', '‘', '∞', '∙', '）', '↓', '、', '│', '（', '»',\n",
    "#     '，', '♪', '╩', '╚', '³', '・', '╦', '╣', '╔', '╗', '▬', '❤', 'ï', 'Ø',\n",
    "#     '¹', '≤', '‡', '√', '«', '»', '´', 'º', '¾', '¡', '§', '£', '₤']"
   ]
  },
  {
   "cell_type": "code",
   "execution_count": 16,
   "metadata": {},
   "outputs": [],
   "source": [
    "punct = \"/-'?!.,#$%\\'()*+-/:;<=>@[\\\\]^_`{|}~\" + '\"\"“”’' + '∞θ÷α•à−β∅³π‘₹´°£€\\×™√²—–&'\n",
    "#punct = list(set(list(punct)+extra_punct+list(string.punctuation)))"
   ]
  },
  {
   "cell_type": "code",
   "execution_count": 17,
   "metadata": {},
   "outputs": [
    {
     "name": "stdout",
     "output_type": "stream",
     "text": [
      "Paragram:\n",
      "“ ” ’ ∞ θ ÷ α • à − β ∅ ³ π ‘ ₹ ´ ° £ € × ™ √ ² — – \n"
     ]
    }
   ],
   "source": [
    "def unknown_punct(embed, punct):\n",
    "    unknown_punct=''\n",
    "    for val in punct:\n",
    "        if val not in embed:\n",
    "            unknown_punct += val+' '\n",
    "    return unknown_punct\n",
    "#print(f'Glove:\\n{unknown_punct(embed_glove, punct)}')\n",
    "print(f'Paragram:\\n{unknown_punct(embed_paragram, punct)}')\n",
    "#print(f'FastText:\\n{unknown_punct(embed_fasttext, punct)}')"
   ]
  },
  {
   "cell_type": "code",
   "execution_count": 18,
   "metadata": {},
   "outputs": [],
   "source": [
    "punct_mapping = {\"‘\": \"'\", \"₹\": \"e\", \"´\": \"'\", \"°\": \"\", \"€\": \"e\", \"™\": \"tm\", \"√\": \" sqrt \", \"×\": \"x\", \"²\": \"2\", \"—\": \"-\", \"–\": \"-\", \"’\": \"'\", \"_\": \"-\", \"`\": \"'\", '“': '\"', '”': '\"', '“': '\"', \"£\": \"e\", '∞': 'infinity', 'θ': 'theta', '÷': '/', 'α': 'alpha', '•': '.', 'à': 'a', '−': '-', 'β': 'beta', '∅': '', '³': '3', 'π': 'pi', }"
   ]
  },
  {
   "cell_type": "code",
   "execution_count": 19,
   "metadata": {},
   "outputs": [],
   "source": [
    "bar = pyprind.ProgBar(df.shape[0], bar_char='█')\n",
    "def clean_puncts(text, mapping, punct):\n",
    "    for p in punct_mapping.keys():\n",
    "        text = text.replace(p, mapping[p])\n",
    "    \n",
    "    for p in punct:\n",
    "        text = text.replace(p, f' {p} ')\n",
    "    \n",
    "    specials = {'\\u200b': ' ', '…': ' ... ', '\\ufeff': '', 'करना': '', 'है': ''}\n",
    "    for p in specials.keys():\n",
    "        text = text.replace(p, specials[p])\n",
    "    bar.update()    \n",
    "    return text\n",
    "#df['treated_question'] = df['treated_question'].apply(lambda x: clean_puncts(x, punct_mapping, punct))"
   ]
  },
  {
   "cell_type": "code",
   "execution_count": 20,
   "metadata": {},
   "outputs": [],
   "source": [
    "# vocab = build_vocab(df['treated_question'])\n",
    "# print(\"Glove : \")\n",
    "# oov_glove = check_coverage(vocab, embed_glove)\n",
    "# print(\"Paragram : \")\n",
    "# oov_paragram = check_coverage(vocab, embed_paragram)\n",
    "# #print(\"FastText : \")\n",
    "# #oov_fasttext = check_coverage(vocab, embed_fasttext)"
   ]
  },
  {
   "cell_type": "code",
   "execution_count": 21,
   "metadata": {},
   "outputs": [],
   "source": [
    "# oov_paragram[:100]"
   ]
  },
  {
   "cell_type": "code",
   "execution_count": 22,
   "metadata": {},
   "outputs": [],
   "source": [
    "mispell_dict = {'colour': 'color', 'centre': 'center', 'favourite': 'favorite', 'travelling': 'traveling', 'counselling': 'counseling', 'theatre': 'theater', 'cancelled': 'canceled', 'labour': 'labor', 'organisation': 'organization', 'wwii': 'world war 2', 'citicise': 'criticize', 'youtu ': 'youtube ', 'Qoura': 'Quora', 'sallary': 'salary', 'Whta': 'What', 'narcisist': 'narcissist', 'howdo': 'how do', 'whatare': 'what are', 'howcan': 'how can', 'howmuch': 'how much', 'howmany': 'how many', 'whydo': 'why do', 'doI': 'do I', 'theBest': 'the best', 'howdoes': 'how does', 'mastrubation': 'masturbation', 'mastrubate': 'masturbate', \"mastrubating\": 'masturbating', 'pennis': 'penis', 'Etherium': 'Ethereum', 'narcissit': 'narcissist', 'bigdata': 'big data', '2k17': '2017', '2k18': '2018', 'qouta': 'quota', 'exboyfriend': 'ex boyfriend', 'airhostess': 'air hostess', \"whst\": 'what', 'watsapp': 'whatsapp', 'demonitisation': 'demonetization', 'demonitization': 'demonetization', 'demonetisation': 'demonetization', 'lnmiit':'limit', 'quorans': 'users of quora', 'mhcet':'competitive examination', 'swachh':'clean', 'chapterwise':'chapter wise', 'bitconnect':'cryptocurrency', 'bittrex':'cryptocurrency exchange','koinex':'cryptocurrency exchange', 'zebpay':'cryptocurrency exchange', 'binance':'cryptocurrency exchange', 'coinbase':'cryptocurrency exchange', 'brexit':'exit of UK from European Union', 'cryptocurrencies':'multiple cryptocurrency','redmi':'mobile phone', 'oneplus':'mobile phone company', 'pokémon':'anime', 'boruto':'anime', 'bhakts':'loyal followers', 'litecoin':'cryptocurreny','qoura':'quora','altcoin':'cryptocurreny','blockchains':'blockchain', 'airpods':'wireless earphones','zenfone':'mobile phone','altcoins':'multiple cryptocurrency','electroneum':'cryptocurreny','cryptocurreny':'blockchain based currency','iitians':'students','iitian':'student','gdpr':'data protection law'}"
   ]
  },
  {
   "cell_type": "code",
   "execution_count": 23,
   "metadata": {},
   "outputs": [],
   "source": [
    "bar = pyprind.ProgBar(df.shape[0], bar_char='█')\n",
    "def correct_spell(text, dic):\n",
    "    for word in dic.keys():\n",
    "        text = text.replace(word, dic[word])\n",
    "    bar.update()\n",
    "    return text\n",
    "#df['treated_question'] = df['treated_question'].apply(lambda x: correct_spell(x, mispell_dict))"
   ]
  },
  {
   "cell_type": "code",
   "execution_count": 24,
   "metadata": {},
   "outputs": [],
   "source": [
    "# vocab = build_vocab(df['treated_question'])\n",
    "# print(\"Glove : \")\n",
    "# oov_glove = check_coverage(vocab, embed_glove)\n",
    "# print(\"Paragram : \")\n",
    "# oov_paragram = check_coverage(vocab, embed_paragram)\n",
    "# #print(\"FastText : \")\n",
    "# #oov_fasttext = check_coverage(vocab, embed_fasttext)"
   ]
  },
  {
   "cell_type": "code",
   "execution_count": 25,
   "metadata": {},
   "outputs": [],
   "source": [
    "# del embed_glove\n",
    "# del oov_glove\n",
    "# gc.collect()"
   ]
  },
  {
   "cell_type": "code",
   "execution_count": 26,
   "metadata": {},
   "outputs": [
    {
     "name": "stderr",
     "output_type": "stream",
     "text": [
      "0% [██████████████████████████████] 100% | ETA: 00:00:00\n",
      "Total time elapsed: 00:04:01\n"
     ]
    }
   ],
   "source": [
    "train['treated_question'] = train['question_text'].apply(lambda x: x.lower())\n",
    "test['treated_question'] = test['question_text'].apply(lambda x: x.lower())\n",
    "train['treated_question'] = train['treated_question'].apply(lambda x: clean_contractions(x, contraction_mapping))\n",
    "test['treated_question'] = test['treated_question'].apply(lambda x: clean_contractions(x, contraction_mapping))\n",
    "train['treated_question'] = train['treated_question'].apply(lambda x: clean_puncts(x, punct_mapping, punct))\n",
    "test['treated_question'] = test['treated_question'].apply(lambda x: clean_puncts(x, punct_mapping, punct))\n",
    "train['treated_question'] = train['treated_question'].apply(lambda x: correct_spell(x, mispell_dict))\n",
    "test['treated_question'] = test['treated_question'].apply(lambda x: correct_spell(x, mispell_dict))"
   ]
  },
  {
   "cell_type": "code",
   "execution_count": 27,
   "metadata": {},
   "outputs": [
    {
     "name": "stderr",
     "output_type": "stream",
     "text": [
      "Using TensorFlow backend.\n"
     ]
    }
   ],
   "source": [
    "from keras.preprocessing.text import Tokenizer\n",
    "from keras.preprocessing.sequence import pad_sequences\n",
    "from keras.models import Model, Sequential\n",
    "from keras.layers import Flatten,Dense, Embedding,  Conv1D, MaxPooling1D, GlobalAveragePooling1D, GlobalMaxPooling1D, Concatenate, Input, Dropout,Bidirectional, CuDNNGRU, GlobalAveragePooling1D, GlobalMaxPooling1D, LeakyReLU, Activation, CuDNNLSTM, SpatialDropout1D\n",
    "#Dense, Embedding, Bidirectional, CuDNNGRU, GlobalAveragePooling1D, GlobalMaxPooling1D, concatenate, Input, Dropout\n",
    "from keras.optimizers import Adam\n",
    "from keras import backend as K\n",
    "from sklearn.model_selection import train_test_split\n",
    "from sklearn.metrics import precision_recall_fscore_support"
   ]
  },
  {
   "cell_type": "code",
   "execution_count": 28,
   "metadata": {},
   "outputs": [],
   "source": [
    "length_to_keep = 100000\n",
    "#train['treated_question'].map(len).mean()\n",
    "max_len = 75"
   ]
  },
  {
   "cell_type": "code",
   "execution_count": 29,
   "metadata": {},
   "outputs": [],
   "source": [
    "# def tokenize_data(text):\n",
    "#     t = Tokenizer(num_words=length_to_keep)\n",
    "#     t.fit_on_texts(text)\n",
    "#     text = t.texts_to_sequences(text)\n",
    "#     text = pad_sequences(text, maxlen=max_len)\n",
    "#     return text, t.word_index"
   ]
  },
  {
   "cell_type": "code",
   "execution_count": 30,
   "metadata": {},
   "outputs": [],
   "source": [
    "# X, word_index = tokenize_data(train['question_text'])"
   ]
  },
  {
   "cell_type": "code",
   "execution_count": 31,
   "metadata": {},
   "outputs": [],
   "source": [
    "def tokenize_treated_data(text, text_test):\n",
    "    t = Tokenizer(num_words=length_to_keep, filters='')\n",
    "    t.fit_on_texts(text)\n",
    "    text = t.texts_to_sequences(text)\n",
    "    text_test = t.texts_to_sequences(text_test)\n",
    "    text = pad_sequences(text, maxlen=max_len)\n",
    "    text_test = pad_sequences(text_test, maxlen=max_len)\n",
    "    return text, t.word_index, text_test\n",
    "X_treated, word_index_treated, X_test_treated = tokenize_treated_data(train['treated_question'], test['treated_question'])"
   ]
  },
  {
   "cell_type": "code",
   "execution_count": 32,
   "metadata": {},
   "outputs": [],
   "source": [
    "# , _ = tokenize_treated_data(test['treated_question'])"
   ]
  },
  {
   "cell_type": "code",
   "execution_count": 33,
   "metadata": {},
   "outputs": [],
   "source": [
    "vocab_len_treated = len(word_index_treated)+1\n",
    "def embed_matrix(embed_paragram, word_index, length_to_keep):\n",
    "    embeddings = np.stack(embed_paragram.values())\n",
    "    \n",
    "#    embeddings_mean, embeddings_std = embeddings.mean(), embeddings.std(ddof=1)\n",
    "#    print(embeddings_mean)\n",
    "     \n",
    "    embeddings_shape = embeddings.shape[1]\n",
    "    embedding_matrix = np.zeros((length_to_keep, 300))\n",
    "    \n",
    "    for word, i in word_index.items():\n",
    "        if i >= length_to_keep:\n",
    "            continue\n",
    "        embeddings_vector = embed_paragram.get(word)\n",
    "        if embeddings_vector is not None:\n",
    "            embedding_matrix[i] = embeddings_vector\n",
    "    return embedding_matrix\n",
    "\n",
    "\n",
    "#embedding = embed_matrix(embed_paragram, word_index, length_to_keep)\n",
    "embedding_treated = embed_matrix(embed_paragram, word_index_treated, length_to_keep)\n",
    "        \n",
    "    "
   ]
  },
  {
   "cell_type": "code",
   "execution_count": 34,
   "metadata": {},
   "outputs": [
    {
     "data": {
      "text/plain": [
       "(100000, 300)"
      ]
     },
     "execution_count": 34,
     "metadata": {},
     "output_type": "execute_result"
    }
   ],
   "source": [
    "embedding_treated.shape"
   ]
  },
  {
   "cell_type": "code",
   "execution_count": 35,
   "metadata": {},
   "outputs": [
    {
     "data": {
      "text/plain": [
       "0"
      ]
     },
     "execution_count": 35,
     "metadata": {},
     "output_type": "execute_result"
    }
   ],
   "source": [
    "#del embed_paragram\n",
    "\n",
    "#del embed_fasttext\n",
    "#del word_index\n",
    "del word_index_treated\n",
    "gc.collect()"
   ]
  },
  {
   "cell_type": "code",
   "execution_count": 36,
   "metadata": {},
   "outputs": [],
   "source": [
    "# {k: embed_glove[k] for k in list(embed_glove)[:5]}"
   ]
  },
  {
   "cell_type": "code",
   "execution_count": 37,
   "metadata": {},
   "outputs": [],
   "source": [
    "#train_target = pd.read_csv('../input/quora-insincere-questions-classification/train.csv', encoding='utf-8')\n",
    "y = train['target'].values\n",
    "train.drop(columns='target',inplace=True)\n",
    "# del train_target\n",
    "# gc.collect()"
   ]
  },
  {
   "cell_type": "code",
   "execution_count": 38,
   "metadata": {},
   "outputs": [
    {
     "name": "stdout",
     "output_type": "stream",
     "text": [
      "Training on 1175509 texts\n"
     ]
    }
   ],
   "source": [
    "#X_train, X_chk, y_train, y_chk = train_test_split(X, y, test_size=0.1, random_state=0)\n",
    "X_t_train, X_t_chk, y_train_treated, y_chk_treated = train_test_split(X_treated, y, test_size=0.1, random_state=0)\n",
    "print(f'Training on {X_t_train.shape[0]} texts')"
   ]
  },
  {
   "cell_type": "code",
   "execution_count": 39,
   "metadata": {},
   "outputs": [],
   "source": [
    "# def f1(y_true, y_pred):\n",
    "#     precision,recall,fscore,support = precision_recall_fscore_support(y_true,y_pred,average='macro')\n",
    "#     print (f'Precision : {precision}')\n",
    "#     print (f'Recall : {recall}')\n",
    "#     print (f'Fscore : {fscore}')\n",
    "#     print (f'Precision : {precision}')\n",
    "#     return fscore"
   ]
  },
  {
   "cell_type": "code",
   "execution_count": 40,
   "metadata": {},
   "outputs": [],
   "source": [
    "def f1(y_true, y_pred):\n",
    "    def recall(y_true, y_pred):\n",
    "        true_positives = K.sum(K.round(K.clip(y_true * y_pred, 0, 1)))\n",
    "        possible_positives = K.sum(K.round(K.clip(y_true, 0, 1)))\n",
    "        recall = true_positives / (possible_positives + K.epsilon())\n",
    "        return recall\n",
    "\n",
    "    def precision(y_true, y_pred):\n",
    "        true_positives = K.sum(K.round(K.clip(y_true * y_pred, 0, 1)))\n",
    "        predicted_positives = K.sum(K.round(K.clip(y_pred, 0, 1)))\n",
    "        precision = true_positives / (predicted_positives + K.epsilon())\n",
    "        return precision\n",
    "    \n",
    "    precision = precision(y_true, y_pred)\n",
    "    recall = recall(y_true, y_pred)\n",
    "    return 2*((precision*recall)/(precision+recall+K.epsilon()))"
   ]
  },
  {
   "cell_type": "code",
   "execution_count": 41,
   "metadata": {},
   "outputs": [],
   "source": [
    "# def make_model1(embedding_matrix, embed_size=300, loss='binary_crossentropy'):\n",
    "#     model = Sequential()\n",
    "#     model.add(Embedding(length_to_keep, embed_size, input_length=max_len,weights=[embedding_matrix], trainable=False))\n",
    "#     model.add(Conv1D(filters=2, kernel_size=4, activation='relu'))\n",
    "#     model.add(MaxPooling1D(pool_size=2))\n",
    "#     model.add(Flatten())\n",
    "#     model.add(Dense(10, activation='relu'))\n",
    "#     model.add(Dense(1, activation='sigmoid'))\n",
    "#     model.compile(loss=loss, optimizer=Adam(lr=0.1), metrics=['accuracy',f1])\n",
    "#     return model"
   ]
  },
  {
   "cell_type": "code",
   "execution_count": 42,
   "metadata": {},
   "outputs": [],
   "source": [
    "# model1 = make_model1(embedding_treated)\n",
    "# model1.summary()\n",
    "#gc.collect()"
   ]
  },
  {
   "cell_type": "code",
   "execution_count": 43,
   "metadata": {},
   "outputs": [],
   "source": [
    "# def make_model(embedding_matrix, embed_size=300, loss='binary_crossentropy'):\n",
    "#     inp = Input(shape=(max_len,))\n",
    "#     filter_size = [2,3,4,5]\n",
    "#     num_kernels=600\n",
    "#     embed   = Embedding(length_to_keep, embed_size, weights=[embedding_matrix], trainable=False)(inp)\n",
    "#     x       = embed\n",
    "#     x1      = Conv1D(kernel_size=filter_size[0], strides=1, filters=num_kernels, padding='valid', activation='relu', use_bias=True)(x)\n",
    "# #    line1   = LeakyReLU()(x1)\n",
    "#     x2      = Conv1D(kernel_size=filter_size[1], strides=1, filters=num_kernels, padding='valid', activation='relu', use_bias=True)(x)\n",
    "# #    line2   = LeakyReLU()(x2)\n",
    "#     x3      = Conv1D(kernel_size=filter_size[2], strides=1, filters=num_kernels, padding='valid', activation='relu', use_bias=True)(x)\n",
    "# #     x4      = Conv1D(kernel_size=filter_size[3], strides=1, filters=num_kernels, padding='valid', activation='relu', use_bias=True)(x)\n",
    "#     x1_max  = MaxPooling1D(pool_size=(2), strides=2, padding='valid')(x1)\n",
    "#     #x1_flat = Flatten()(x1_max)\n",
    "#     x2_max  = MaxPooling1D(pool_size=(2), strides=2, padding='valid')(x2)\n",
    "#     #x2_flat = Flatten()(x2_max)\n",
    "#     x3_max  = MaxPooling1D(pool_size=(2), strides=2, padding='valid')(x3)\n",
    "# #     #x3_flat = Flatten()(x3_max)\n",
    "# #     x4_max  = MaxPooling1D(pool_size=(max_len-filter_size[3]+1), strides=1, padding='valid')(x4)\n",
    "#     concat  = Concatenate(axis=1)([x1_max, x2_max, x3_max])#, x4_max])\n",
    "#     flat    = Flatten()(concat)\n",
    "#     drop    = Dropout(0.3)(flat)\n",
    "#     dense1  = Dense(128, activation=\"relu\")(drop)\n",
    "#     output  = Dense(1, activation=\"sigmoid\")(dense1)\n",
    "#     model   = Model(inputs=inp, outputs=output)\n",
    "#     model.compile(loss=loss, optimizer=Adam(lr=0.001), metrics=['accuracy'])\n",
    "#     return model\n",
    "# #model = make_model(embedding)\n",
    "# #model_treated = make_model(embedding_treated)"
   ]
  },
  {
   "cell_type": "code",
   "execution_count": 44,
   "metadata": {},
   "outputs": [],
   "source": [
    "# def make_model(embedding_matrix, embed_size=300, loss='binary_crossentropy'):\n",
    "#     inp = Input(shape=(max_len,))\n",
    "#     filter_size = [2,3,4,5]\n",
    "#     num_kernels=64\n",
    "#     embed   = Embedding(length_to_keep, embed_size, weights=[embedding_matrix], trainable=False)(inp)\n",
    "#     x       = embed\n",
    "#     x1      = Conv1D(kernel_size=filter_size[0], strides=1, filters=num_kernels, padding='valid', activation='relu', use_bias=True)(x)\n",
    "# #    line1   = LeakyReLU()(x1)\n",
    "#     x2      = Conv1D(kernel_size=filter_size[1], strides=1, filters=num_kernels, padding='valid', activation='relu', use_bias=True)(x)\n",
    "# #    line2   = LeakyReLU()(x2)\n",
    "#     x3      = Conv1D(kernel_size=filter_size[2], strides=1, filters=num_kernels, padding='valid', activation='relu', use_bias=True)(x)\n",
    "# #     x4      = Conv1D(kernel_size=filter_size[3], strides=1, filters=num_kernels, padding='valid', activation='relu', use_bias=True)(x)\n",
    "#     x1_max  = MaxPooling1D(pool_size=(max_len-filter_size[0]+1), strides=1, padding='valid')(x1)\n",
    "#     #x1_flat = Flatten()(x1_max)\n",
    "#     x2_max  = MaxPooling1D(pool_size=(max_len-filter_size[1]+1), strides=1, padding='valid')(x2)\n",
    "#     #x2_flat = Flatten()(x2_max)\n",
    "#     x3_max  = MaxPooling1D(pool_size=(max_len-filter_size[2]+1), strides=1, padding='valid')(x3)\n",
    "# #     #x3_flat = Flatten()(x3_max)\n",
    "# #     x4_max  = MaxPooling1D(pool_size=(max_len-filter_size[3]+1), strides=1, padding='valid')(x4)\n",
    "#     concat  = Concatenate(axis=1)([x1_max, x2_max, x3_max])#, x4_max])\n",
    "#     flat    = Flatten()(concat)\n",
    "#     drop    = Dropout(0.3)(flat)\n",
    "#     dense1  = Dense(64, activation=\"relu\")(drop)\n",
    "#     output  = Dense(1, activation=\"sigmoid\")(dense1)\n",
    "#     model   = Model(inputs=inp, outputs=output)\n",
    "#     model.compile(loss=loss, optimizer=Adam(lr=0.001), metrics=['accuracy'])\n",
    "#     return model\n",
    "# #model = make_model(embedding)\n",
    "# #model_treated = make_model(embedding_treated)"
   ]
  },
  {
   "cell_type": "code",
   "execution_count": 45,
   "metadata": {},
   "outputs": [],
   "source": [
    "# def make_model(embedding_matrix, embed_size=300, loss='binary_crossentropy'):\n",
    "#     inp    = Input(shape=(max_len,))\n",
    "#     x      = Embedding(length_to_keep, embed_size, weights=[embedding_matrix], trainable=False)(inp)\n",
    "#     x      = Bidirectional(CuDNNGRU(128, return_sequences=True))(x)\n",
    "#     x      = Bidirectional(CuDNNGRU(64, return_sequences=True))(x)\n",
    "#     avg_pl = GlobalAveragePooling1D()(x)\n",
    "#     max_pl = GlobalMaxPooling1D()(x)\n",
    "#     concat = concatenate([avg_pl, max_pl])\n",
    "#     dense  = Dense(64, activation=\"relu\")(concat)\n",
    "#     drop   = Dropout(0.1)(concat)\n",
    "#     output = Dense(1, activation=\"sigmoid\")(concat)\n",
    "    \n",
    "#     model  = Model(inputs=inp, outputs=output)\n",
    "#     model.compile(loss=loss, optimizer=Adam(lr=0.0001), metrics=['accuracy', f1])\n",
    "#     return model\n"
   ]
  },
  {
   "cell_type": "code",
   "execution_count": 46,
   "metadata": {},
   "outputs": [],
   "source": [
    "def make_model(embedding_matrix, embed_size=300, loss='binary_crossentropy'):\n",
    "    inp = Input(shape=(max_len,))\n",
    "    embed= Embedding(length_to_keep, embed_size, weights=[embedding_matrix], trainable=False)(inp)\n",
    "    spatial_drop = SpatialDropout1D(0.3)(embed)\n",
    "    lstm1=(Bidirectional(CuDNNLSTM(256,return_sequences=True)))(spatial_drop)\n",
    "    lstm2=(Bidirectional(CuDNNGRU(256,return_sequences=True)))(lstm1)\n",
    "    maxpool1 = GlobalMaxPooling1D()(lstm1)\n",
    "    maxpool2 = GlobalMaxPooling1D()(lstm2)\n",
    "    conc = Concatenate(axis=1)([maxpool1,maxpool2])\n",
    "    #flat=Flatten()(lstm2)\n",
    "    #drop2 = Dropout(0.3)(conc)\n",
    "    dense1 = Dense(128,activation='relu')(conc)\n",
    "    output=Dense(1,activation='sigmoid')(dense1)\n",
    "    model  = Model(inputs=inp, outputs=output)\n",
    "    model.compile(loss=loss, optimizer=Adam(lr=0.001), metrics=['accuracy', f1])\n",
    "    return model"
   ]
  },
  {
   "cell_type": "code",
   "execution_count": 47,
   "metadata": {},
   "outputs": [
    {
     "name": "stdout",
     "output_type": "stream",
     "text": [
      "Model: \"model_1\"\n",
      "__________________________________________________________________________________________________\n",
      "Layer (type)                    Output Shape         Param #     Connected to                     \n",
      "==================================================================================================\n",
      "input_1 (InputLayer)            (None, 75)           0                                            \n",
      "__________________________________________________________________________________________________\n",
      "embedding_1 (Embedding)         (None, 75, 300)      30000000    input_1[0][0]                    \n",
      "__________________________________________________________________________________________________\n",
      "spatial_dropout1d_1 (SpatialDro (None, 75, 300)      0           embedding_1[0][0]                \n",
      "__________________________________________________________________________________________________\n",
      "bidirectional_1 (Bidirectional) (None, 75, 512)      1142784     spatial_dropout1d_1[0][0]        \n",
      "__________________________________________________________________________________________________\n",
      "bidirectional_2 (Bidirectional) (None, 75, 512)      1182720     bidirectional_1[0][0]            \n",
      "__________________________________________________________________________________________________\n",
      "global_max_pooling1d_1 (GlobalM (None, 512)          0           bidirectional_1[0][0]            \n",
      "__________________________________________________________________________________________________\n",
      "global_max_pooling1d_2 (GlobalM (None, 512)          0           bidirectional_2[0][0]            \n",
      "__________________________________________________________________________________________________\n",
      "concatenate_1 (Concatenate)     (None, 1024)         0           global_max_pooling1d_1[0][0]     \n",
      "                                                                 global_max_pooling1d_2[0][0]     \n",
      "__________________________________________________________________________________________________\n",
      "dense_1 (Dense)                 (None, 128)          131200      concatenate_1[0][0]              \n",
      "__________________________________________________________________________________________________\n",
      "dense_2 (Dense)                 (None, 1)            129         dense_1[0][0]                    \n",
      "==================================================================================================\n",
      "Total params: 32,456,833\n",
      "Trainable params: 2,456,833\n",
      "Non-trainable params: 30,000,000\n",
      "__________________________________________________________________________________________________\n"
     ]
    }
   ],
   "source": [
    "model_treated = make_model(embedding_treated)\n",
    "model_treated.summary()"
   ]
  },
  {
   "cell_type": "code",
   "execution_count": 48,
   "metadata": {},
   "outputs": [],
   "source": [
    "from keras.callbacks import ModelCheckpoint, ReduceLROnPlateau, EarlyStopping\n",
    "#checkpoints = ModelCheckpoint('weights.hdf5', monitor=\"val_f1\", mode=\"max\", verbose=True, save_best_only=True)\n",
    "#reduce_lr = ReduceLROnPlateau(monitor='val_f1', factor=0.1, patience=2, verbose=1, min_lr=0.000001)\n",
    "# early_stopping = EarlyStopping(patience=2, verbose=1, monitor='val_f1', mode='max')\n",
    "# checkpoints_treated = ModelCheckpoint('treated_weights.hdf5', monitor=\"val_f1\", mode=\"max\", verbose=True, save_best_only=True)\n",
    "# reduce_lr_treated = ReduceLROnPlateau(monitor='val_f1', factor=0.1, patience=2, verbose=1, min_lr=0.1)\n",
    "\n",
    "\n",
    "early_stopping = EarlyStopping(patience=5, verbose=1, monitor='val_loss', mode='min')\n",
    "checkpoints_treated = ModelCheckpoint('treated_weights.hdf5', monitor=\"val_loss\", mode=\"min\", verbose=1, save_best_only=True)\n",
    "reduce_lr_treated = ReduceLROnPlateau(monitor='val_loss', factor=0.1, patience=2, verbose=1, min_lr=0.00001, mode='min')"
   ]
  },
  {
   "cell_type": "code",
   "execution_count": 49,
   "metadata": {},
   "outputs": [],
   "source": [
    "#import tensorflow as tf\n",
    "epochs = 4\n",
    "batch_size = 128\n",
    "#tf.reset_default_graph()"
   ]
  },
  {
   "cell_type": "code",
   "execution_count": 50,
   "metadata": {},
   "outputs": [],
   "source": [
    "a=3"
   ]
  },
  {
   "cell_type": "code",
   "execution_count": 51,
   "metadata": {},
   "outputs": [
    {
     "name": "stdout",
     "output_type": "stream",
     "text": [
      "Train on 1306122 samples, validate on 130613 samples\n",
      "Epoch 1/4\n",
      " - 474s - loss: 0.1134 - accuracy: 0.9554 - f1: 0.5542 - val_loss: 0.0952 - val_accuracy: 0.9622 - val_f1: 0.6586\n",
      "\n",
      "Epoch 00001: val_loss improved from inf to 0.09522, saving model to treated_weights.hdf5\n",
      "Epoch 2/4\n",
      " - 470s - loss: 0.0997 - accuracy: 0.9603 - f1: 0.6315 - val_loss: 0.0870 - val_accuracy: 0.9650 - val_f1: 0.6903\n",
      "\n",
      "Epoch 00002: val_loss improved from 0.09522 to 0.08698, saving model to treated_weights.hdf5\n",
      "Epoch 3/4\n",
      " - 469s - loss: 0.0938 - accuracy: 0.9624 - f1: 0.6569 - val_loss: 0.0807 - val_accuracy: 0.9676 - val_f1: 0.7040\n",
      "\n",
      "Epoch 00003: val_loss improved from 0.08698 to 0.08067, saving model to treated_weights.hdf5\n",
      "Epoch 4/4\n",
      " - 470s - loss: 0.0894 - accuracy: 0.9638 - f1: 0.6739 - val_loss: 0.0764 - val_accuracy: 0.9693 - val_f1: 0.7351\n",
      "\n",
      "Epoch 00004: val_loss improved from 0.08067 to 0.07643, saving model to treated_weights.hdf5\n"
     ]
    }
   ],
   "source": [
    "# history = model_treated.fit(X_t_train, y_train_treated, batch_size=batch_size,\n",
    "#                             epochs=epochs, \n",
    "#                     validation_data=[X_t_chk, y_chk_treated], \n",
    "#                             verbose=2, callbacks=[checkpoints_treated, reduce_lr_treated, early_stopping])\n",
    "\n",
    "history = model_treated.fit(X_treated, y, batch_size=batch_size,\n",
    "                            epochs=epochs, \n",
    "                    validation_data=[X_t_chk, y_chk_treated], \n",
    "                            verbose=2, callbacks=[checkpoints_treated, reduce_lr_treated, early_stopping])"
   ]
  },
  {
   "cell_type": "code",
   "execution_count": 52,
   "metadata": {},
   "outputs": [
    {
     "ename": "KeyError",
     "evalue": "'acc'",
     "output_type": "error",
     "traceback": [
      "\u001b[0;31m---------------------------------------------------------------------------\u001b[0m",
      "\u001b[0;31mKeyError\u001b[0m                                  Traceback (most recent call last)",
      "\u001b[0;32m<ipython-input-52-90bb48c47686>\u001b[0m in \u001b[0;36m<module>\u001b[0;34m\u001b[0m\n\u001b[1;32m      4\u001b[0m \u001b[0mplt\u001b[0m\u001b[0;34m.\u001b[0m\u001b[0mplot\u001b[0m\u001b[0;34m(\u001b[0m\u001b[0mhistory\u001b[0m\u001b[0;34m.\u001b[0m\u001b[0mhistory\u001b[0m\u001b[0;34m[\u001b[0m\u001b[0;34m'val_loss'\u001b[0m\u001b[0;34m]\u001b[0m\u001b[0;34m,\u001b[0m \u001b[0mlabel\u001b[0m\u001b[0;34m=\u001b[0m\u001b[0;34m'Test Loss'\u001b[0m\u001b[0;34m)\u001b[0m\u001b[0;34m\u001b[0m\u001b[0m\n\u001b[1;32m      5\u001b[0m \u001b[0mplt\u001b[0m\u001b[0;34m.\u001b[0m\u001b[0msubplot\u001b[0m\u001b[0;34m(\u001b[0m\u001b[0;36m1\u001b[0m\u001b[0;34m,\u001b[0m\u001b[0;36m2\u001b[0m\u001b[0;34m,\u001b[0m\u001b[0;36m2\u001b[0m\u001b[0;34m)\u001b[0m\u001b[0;34m\u001b[0m\u001b[0m\n\u001b[0;32m----> 6\u001b[0;31m \u001b[0mplt\u001b[0m\u001b[0;34m.\u001b[0m\u001b[0mplot\u001b[0m\u001b[0;34m(\u001b[0m\u001b[0mhistory\u001b[0m\u001b[0;34m.\u001b[0m\u001b[0mhistory\u001b[0m\u001b[0;34m[\u001b[0m\u001b[0;34m'acc'\u001b[0m\u001b[0;34m]\u001b[0m\u001b[0;34m,\u001b[0m \u001b[0mlabel\u001b[0m\u001b[0;34m=\u001b[0m\u001b[0;34m'Train Accuracy'\u001b[0m\u001b[0;34m)\u001b[0m\u001b[0;34m\u001b[0m\u001b[0m\n\u001b[0m\u001b[1;32m      7\u001b[0m \u001b[0mplt\u001b[0m\u001b[0;34m.\u001b[0m\u001b[0mplot\u001b[0m\u001b[0;34m(\u001b[0m\u001b[0mhistory\u001b[0m\u001b[0;34m.\u001b[0m\u001b[0mhistory\u001b[0m\u001b[0;34m[\u001b[0m\u001b[0;34m'val_acc'\u001b[0m\u001b[0;34m]\u001b[0m\u001b[0;34m,\u001b[0m \u001b[0mlabel\u001b[0m\u001b[0;34m=\u001b[0m\u001b[0;34m'Test Accuracy'\u001b[0m\u001b[0;34m)\u001b[0m\u001b[0;34m\u001b[0m\u001b[0m\n\u001b[1;32m      8\u001b[0m \u001b[0mplt\u001b[0m\u001b[0;34m.\u001b[0m\u001b[0mshow\u001b[0m\u001b[0;34m(\u001b[0m\u001b[0;34m)\u001b[0m\u001b[0;34m\u001b[0m\u001b[0m\n",
      "\u001b[0;31mKeyError\u001b[0m: 'acc'"
     ]
    },
    {
     "data": {
      "image/png": "[encoded data removed]",
      "text/plain": [
       "<Figure size 864x576 with 2 Axes>"
      ]
     },
     "metadata": {
      "needs_background": "light"
     },
     "output_type": "display_data"
    }
   ],
   "source": [
    "plt.figure(figsize=(12,8))\n",
    "plt.subplot(1,2,1)\n",
    "plt.plot(history.history['loss'], label='Train Loss')\n",
    "plt.plot(history.history['val_loss'], label='Test Loss')\n",
    "plt.subplot(1,2,2)\n",
    "plt.plot(history.history['acc'], label='Train Accuracy')\n",
    "plt.plot(history.history['val_acc'], label='Test Accuracy')\n",
    "plt.show()"
   ]
  },
  {
   "cell_type": "code",
   "execution_count": 53,
   "metadata": {},
   "outputs": [
    {
     "name": "stdout",
     "output_type": "stream",
     "text": [
      "375806/375806 [==============================] - 109s 289us/step\n"
     ]
    }
   ],
   "source": [
    "y_hat = model_treated.predict(X_test_treated,verbose=True)"
   ]
  },
  {
   "cell_type": "code",
   "execution_count": 54,
   "metadata": {},
   "outputs": [
    {
     "name": "stdout",
     "output_type": "stream",
     "text": [
      "130613/130613 [==============================] - 10s 80us/step\n",
      "F1 score at threshold 0.1 is 0.641291617868496\n",
      "F1 score at threshold 0.11 is 0.6522185175686074\n",
      "F1 score at threshold 0.12 is 0.6615223646351034\n",
      "F1 score at threshold 0.13 is 0.6708366604560376\n",
      "F1 score at threshold 0.14 is 0.6779110670154235\n",
      "F1 score at threshold 0.15 is 0.6857770858137192\n",
      "F1 score at threshold 0.16 is 0.6939895794566432\n",
      "F1 score at threshold 0.17 is 0.6997549019607843\n",
      "F1 score at threshold 0.18 is 0.705119030580602\n",
      "F1 score at threshold 0.19 is 0.711104670820654\n",
      "F1 score at threshold 0.2 is 0.715961294106148\n",
      "F1 score at threshold 0.21 is 0.7203042426038424\n",
      "F1 score at threshold 0.22 is 0.7238009771662179\n",
      "F1 score at threshold 0.23 is 0.727437641723356\n",
      "F1 score at threshold 0.24 is 0.7311335166513901\n",
      "F1 score at threshold 0.25 is 0.7345869297163994\n",
      "F1 score at threshold 0.26 is 0.7372183372183372\n",
      "F1 score at threshold 0.27 is 0.7401599498196644\n",
      "F1 score at threshold 0.28 is 0.7435383479269965\n",
      "F1 score at threshold 0.29 is 0.7456761215475494\n",
      "F1 score at threshold 0.3 is 0.7463022508038585\n",
      "F1 score at threshold 0.31 is 0.7477462887989205\n",
      "F1 score at threshold 0.32 is 0.7496193169458343\n",
      "F1 score at threshold 0.33 is 0.7510271158586689\n",
      "F1 score at threshold 0.34 is 0.7514623110032005\n",
      "F1 score at threshold 0.35 is 0.7529594842438726\n",
      "F1 score at threshold 0.36 is 0.7539900319202554\n",
      "F1 score at threshold 0.37 is 0.7559543966587652\n",
      "F1 score at threshold 0.38 is 0.7561724883376947\n",
      "F1 score at threshold 0.39 is 0.7561339142398532\n",
      "F1 score at threshold 0.4 is 0.7561890472618154\n",
      "F1 score at threshold 0.41 is 0.7572308049715414\n",
      "F1 score at threshold 0.42 is 0.758305501845667\n",
      "F1 score at threshold 0.43 is 0.7574201923644303\n",
      "F1 score at threshold 0.44 is 0.7570520814775225\n",
      "F1 score at threshold 0.45 is 0.756071300394784\n",
      "F1 score at threshold 0.46 is 0.755750933397567\n",
      "F1 score at threshold 0.47 is 0.7547925260859015\n",
      "F1 score at threshold 0.48 is 0.7541704857928505\n",
      "F1 score at threshold 0.49 is 0.7533427814406309\n",
      "F1 score at threshold 0.5 is 0.7509788080293333\n",
      "Best threshold:  0.42\n"
     ]
    }
   ],
   "source": [
    "from sklearn.metrics import f1_score\n",
    "pred_val_y = model_treated.predict([X_t_chk], batch_size=1024, verbose=1)\n",
    "thresholds = []\n",
    "for thresh in np.arange(0.1, 0.501, 0.01):\n",
    "    thresh = np.round(thresh, 2)\n",
    "    res = f1_score(y_chk_treated, (pred_val_y > thresh).astype(int))\n",
    "    thresholds.append([thresh, res])\n",
    "    print(\"F1 score at threshold {0} is {1}\".format(thresh, res))\n",
    "    \n",
    "thresholds.sort(key=lambda x: x[1], reverse=True)\n",
    "best_thresh_1 = thresholds[0][0]\n",
    "print(\"Best threshold: \", best_thresh_1)\n",
    "\n",
    "#y_pred = model_treated.predict(X_test_treated, batch_size=1024, verbose=True)"
   ]
  },
  {
   "cell_type": "code",
   "execution_count": 55,
   "metadata": {},
   "outputs": [],
   "source": [
    "submission = pd.read_csv('../input/quora-insincere-questions-classification/sample_submission.csv', encoding='utf-8')"
   ]
  },
  {
   "cell_type": "code",
   "execution_count": 56,
   "metadata": {},
   "outputs": [],
   "source": [
    "y_pred = (y_hat > best_thresh_1).astype(int)\n",
    "submission['prediction'] = y_pred\n",
    "submission.to_csv('submission.csv', index=False)"
   ]
  }
 ],
 "metadata": {
  "kernelspec": {
   "display_name": "Python 3",
   "language": "python",
   "name": "python3"
  },
  "language_info": {
   "codemirror_mode": {
    "name": "ipython",
    "version": 3
   },
   "file_extension": ".py",
   "mimetype": "text/x-python",
   "name": "python",
   "nbconvert_exporter": "python",
   "pygments_lexer": "ipython3",
   "version": "3.6.6"
  }
 },
 "nbformat": 4,
 "nbformat_minor": 1
}
